{
 "cells": [
  {
   "cell_type": "markdown",
   "metadata": {},
   "source": [
    "---\n",
    "title: \"Stat 305 Exercise Set 3\"\n",
    "output: html_document\n",
    "---"
   ]
  },
  {
   "cell_type": "code",
   "execution_count": null,
   "metadata": {
    "attributes": {
     "classes": [],
     "id": "",
     "include": "FALSE"
    }
   },
   "outputs": [],
   "source": [
    "knitr::opts_chunk$set(echo = TRUE,message=FALSE,warning=FALSE)"
   ]
  },
  {
   "cell_type": "markdown",
   "metadata": {},
   "source": [
    "## Question 1\n",
    "\n",
    "Chapter 19, #8, parts (a)-(f), plus extra questions (g)\n",
    "and (h) below.  \n",
    "For the population of low birth weight infants, \n",
    "a significant linear relationship was\n",
    "found to exist between systolic blood pressure, in millimetres\n",
    "mercury (mmHg), and gestational age. The\n",
    "relevant data are in the file `lowbwt.csv` that is\n",
    "read in by the R code chunk below.\n",
    "The measurements of systolic blood pressure are saved \n",
    "under the variable name `sbp`, and\n",
    "corresponding gestational ages under `gestage`. \n",
    "Also contained in the data set is `apgar5`, \n",
    "the five-minute apgar score for each infant. \n",
    "(The apgar score is an indicator of a child's \n",
    "general state of health five minutes after it is \n",
    "born; although actually an ordinal measurement, \n",
    "it is often treated as if it were continuous.)\n",
    "\n",
    "Report numerical answers to 3-4 significant digits."
   ]
  },
  {
   "cell_type": "code",
   "execution_count": null,
   "metadata": {},
   "outputs": [],
   "source": [
    "%%R\n",
    "uu <- url(\"http://people.stat.sfu.ca/~jgraham/Teaching/S305_18/Data/lowbwt.csv\")\n",
    "lowbwt <- read.csv(uu) # Note: this is not the same dataset used in lectures\n",
    "head(lowbwt)"
   ]
  },
  {
   "cell_type": "markdown",
   "metadata": {},
   "source": [
    "(a) Construct a two-way scatter plot of systolic blood\n",
    "pressure *versus* five-minute apgar score. Does \n",
    "there appear to be a linear relationship between \n",
    "these two variables?\n",
    "\n",
    "**Answer:**"
   ]
  },
  {
   "cell_type": "code",
   "execution_count": null,
   "metadata": {},
   "outputs": [],
   "source": [
    "%%R\n",
    "library(ggplot2)\n",
    "# Add your R commands here.  "
   ]
  },
  {
   "cell_type": "markdown",
   "metadata": {},
   "source": [
    "*Insert your written comments here.*\n",
    "\n",
    "(b) Using systolic blood pressure as the response and \n",
    "gestational age and apgar\n",
    "score as the explanatory variables, fit the \n",
    "least-squares model\n",
    "$$\n",
    "\\hat{y} = a+ \\hat{\\beta}_1 x_1 + \\hat{\\beta}_2 x_2.\n",
    "$$\n",
    "Interpret $\\hat{\\beta}_1$, the estimated coefficient of gestational age. What does it mean in\n",
    "words? Similarly, interpret $\\hat{\\beta}_2$, \n",
    "the estimated coefficient of five-minute apgar\n",
    "score.\n",
    "\n",
    "**Answer:**"
   ]
  },
  {
   "cell_type": "code",
   "execution_count": null,
   "metadata": {},
   "outputs": [],
   "source": [
    "%%R\n",
    "# Add your R commands here.  "
   ]
  },
  {
   "cell_type": "markdown",
   "metadata": {},
   "source": [
    "*Insert your written comments here.*\n",
    "\n",
    "\n",
    "(c) What is the estimated mean systolic blood pressure \n",
    "for the population of low\n",
    "birth weight infants whose gestational age is 31 weeks \n",
    "and whose five-minute\n",
    "apgar score is 7?\n",
    "\n",
    "**Answer:**"
   ]
  },
  {
   "cell_type": "code",
   "execution_count": null,
   "metadata": {},
   "outputs": [],
   "source": [
    "%%R\n",
    "# Add your R commands here.  "
   ]
  },
  {
   "cell_type": "markdown",
   "metadata": {},
   "source": [
    "*Insert your written comments here.*\n",
    "\n",
    "(d) Construct a 95% confidence interval for the true \n",
    "mean value of systolic blood\n",
    "pressure when gestational age is $x_1 = 31$ weeks and the apgar score is $x_2 = 7$.\n",
    "\n",
    "**Answer:**"
   ]
  },
  {
   "cell_type": "code",
   "execution_count": null,
   "metadata": {},
   "outputs": [],
   "source": [
    "%%R\n",
    "# Add your R commands here.  "
   ]
  },
  {
   "cell_type": "markdown",
   "metadata": {},
   "source": [
    "*Insert your written comments here.*\n",
    "\n",
    "\n",
    "(e) Test the null hypothesis\n",
    "$$\n",
    "H_0 : \\beta_2 = 0\n",
    "$$\n",
    "at the 0.05 level of significance. What do you conclude?\n",
    "\n",
    "**Answer:**\n",
    "*Insert your written comments here.*\n",
    "\n",
    "(f) Comment on the magnitude of $R^2$. \n",
    "Does the inclusion of five-minute apgar\n",
    "score in the model already containing \n",
    "gestational age appear to greatly improve the ability to\n",
    "predict systolic blood pressure? \n",
    "\n",
    "**Answer:**\n",
    "*Insert your written comments here.*\n",
    "\n",
    "**Answer:**"
   ]
  },
  {
   "cell_type": "code",
   "execution_count": null,
   "metadata": {},
   "outputs": [],
   "source": [
    "%%R\n",
    "# Add your R commands here.  "
   ]
  },
  {
   "cell_type": "markdown",
   "metadata": {},
   "source": [
    "*Insert your written comments here.*\n",
    "\n",
    "\n",
    "(g) Construct a plot of the residuals versus the fitted values of systolic blood pressure. From this plot, are there any obvious problems with how the linear predictor has been specified and or with the assumption of constant SD for the random errors? \n",
    "\n",
    "**Answer:**"
   ]
  },
  {
   "cell_type": "code",
   "execution_count": null,
   "metadata": {},
   "outputs": [],
   "source": [
    "%%R\n",
    "# Add your R commands here.  "
   ]
  },
  {
   "cell_type": "markdown",
   "metadata": {},
   "source": [
    "*Insert your written comments here.*\n",
    "\n",
    "(h) From the Normal QQ plot of the standardized residuals, does the assumption of normal random errors appear plausible?  Based on the standardized residuals, are there any infants you would describe as obvious outliers? If so, what are their case numbers?\n",
    "\n",
    "**Answer:**"
   ]
  },
  {
   "cell_type": "code",
   "execution_count": null,
   "metadata": {},
   "outputs": [],
   "source": [
    "%%R\n",
    "# Add your R commands here.  "
   ]
  },
  {
   "cell_type": "markdown",
   "metadata": {},
   "source": [
    "*Insert your written comments here.*\n",
    "\n",
    "\n",
    "## Question 2\n",
    "\n",
    "Use the dataset on babies with low birthweight from the previous question. \n",
    "We will use `ggplot()` to create a scatterplot of systolic blood pressure versus gestational age with different colours for male and female babies. \n",
    "\n",
    "In the R code chunk below, we first change the numeric variable `sex`\n",
    "in the dataframe to a categorical variable or factor variable, `sexCateg`, with the `mutate()` function. The categorical \n",
    "`sexCateg` variable is then used to specify colors in `ggplot()`."
   ]
  },
  {
   "cell_type": "code",
   "execution_count": null,
   "metadata": {},
   "outputs": [],
   "source": [
    "%%R\n",
    "uu <- url(\"http://people.stat.sfu.ca/~jgraham/Teaching/S305_18/Data/lowbwt.csv\")\n",
    "lowbwt <- read.csv(uu)\n",
    "library(dplyr)\n",
    "lowbwt <- mutate(lowbwt, sexCateg=factor(sex))\n",
    "head(lowbwt)\n",
    "library(ggplot2)\n",
    "ggplot(lowbwt,aes(x=gestage,y=sbp,color=sexCateg)) +\n",
    "  geom_point()"
   ]
  },
  {
   "cell_type": "markdown",
   "metadata": {},
   "source": [
    "(a)\tIn the following code chunk we add fitted least-squares-regression lines for each group defined by the gender of the babies. Do the slopes of these fitted lines look similar or different (no testing necessary)?"
   ]
  },
  {
   "cell_type": "code",
   "execution_count": null,
   "metadata": {},
   "outputs": [],
   "source": [
    "%%R\n",
    "ggplot(lowbwt,aes(x=gestage,y=sbp,color=sexCateg)) +\n",
    "  geom_point() + geom_smooth(method=\"lm\",se=FALSE)"
   ]
  },
  {
   "cell_type": "markdown",
   "metadata": {},
   "source": [
    "**Answer:**\n",
    "*Insert your written comments here.*\n",
    "\n",
    "(b) Fit a multiple-linear-regression model of mean systolic blood pressure that includes main effects for gestational age, sex and statistical interaction between gestational age and sex. Test the hypothesis of no statistical interaction at the 5% level and report your conclusion.\n",
    "\n",
    "**Answer:**"
   ]
  },
  {
   "cell_type": "code",
   "execution_count": null,
   "metadata": {},
   "outputs": [],
   "source": [
    "%%R\n",
    "# Add your R commands here.  "
   ]
  },
  {
   "cell_type": "markdown",
   "metadata": {},
   "source": [
    "*Insert your written comments here.*\n",
    "\n",
    "(c) Fit a multiple-linear-regression model of the mean systolic blood pressure that includes main effects for gestational age and sex. Interpret the estimated sex effect (i.e. the slope term for sex).\n",
    "\n",
    "**Answer:**"
   ]
  },
  {
   "cell_type": "code",
   "execution_count": null,
   "metadata": {},
   "outputs": [],
   "source": [
    "%%R\n",
    "# Add your R commands here.  "
   ]
  },
  {
   "cell_type": "markdown",
   "metadata": {},
   "source": [
    "*Insert your written comments here.*\n",
    "\n",
    "(d) Does sex confound the relationship between gestational age and systolic blood pressure? Use the 10% rule-of-thumb from class.\n",
    "\n",
    "**Answer:**"
   ]
  },
  {
   "cell_type": "code",
   "execution_count": null,
   "metadata": {},
   "outputs": [],
   "source": [
    "%%R\n",
    "# Add your R commands here.  "
   ]
  },
  {
   "cell_type": "markdown",
   "metadata": {},
   "source": [
    "*Insert your written comments here.*\n",
    "\n",
    "## Question 3\n",
    "\n",
    "Chapter 20, #5 (modified). \n",
    "In a study investigating maternal risk factors for congenital\n",
    "syphilis, syphilis is treated as a dichotomous response variable,\n",
    "where 1 represents the presence of disease in a \n",
    "newborn and 0 its absence.\n",
    "(Note: Syphilis can be spread from an infected mother to the fetus during pregnancy or to the infant at birth. When born, the infant has congenital syphilis.)\n",
    "The estimated coefficients from a logistic-regression model \n",
    "containing the explanatory variables of cocaine or crack use,\n",
    "marital status, number of prenatal visits to a doctor,\n",
    "alcohol use, and level of education are listed below.\n",
    "The estimated intercept $\\hat{\\alpha}$ is not given.\n",
    "\n",
    "| Variable                  | Coefficient  |\n",
    "| ------------------------- | -----------: |\n",
    "| Cocaine/Crack Use         | $1.354$      |\n",
    "| Marital Status            | $0.779$      |\n",
    "| Number of Prenatal Visits | $-0.098$     |\n",
    "| Alcohol Use               | $0.723$      |\n",
    "| Level of Education        | $0.298$      |\n",
    "\n",
    "Report numerical answers to 3-4 significant digits.\n",
    "\n",
    "\n",
    "(a)\tAs an expectant mother's number of prenatal\n",
    "visits to the doctor increases, what happens to \n",
    "the probability that her child will be born with\n",
    "congenital syphilis?\n",
    "\n",
    "**Answer:**\n",
    "*Insert your written comments here.*\n",
    "\n",
    "(b) Marital status is a dichotomous random variable,\n",
    "where the value 1 indicates that a woman is unmarried\n",
    "and 0 that she is married. For unmarried mothers, what are the estimated odds that a newborn will suffer from syphilis relative to married mothers? \n",
    "\n",
    "**Answer:**\n",
    "*Insert your written comments here.*\n",
    "\n",
    "(c) Cocaine or crack use is also a dichotomous random variable;\n",
    "the value 1 indicates that a woman used drugs during her\n",
    "pregnancy and 0 that she did not. \n",
    "What is the estimated odds ratio that a child will be born\n",
    "with congenital syphilis for women who used cocaine or\n",
    "crack *versus* women who did not?\n",
    "\n",
    "**Answer:**\n",
    "*Insert your written comments here.*\n",
    "\n",
    "\n",
    "(d) The estimated slope coefficient for cocaine or crack use\n",
    "has standard error 0.162. Construct a 95\\% confidence\n",
    "interval for the population **odds ratio** using the \n",
    "pivotal method described in the class notes. \n",
    "You will need the critical value 1.96. \n",
    "\n",
    "**Answer:**\n",
    "*Insert your written comments here.*\n",
    "\n",
    "\n",
    "## Question 4\n",
    "\n",
    "\n",
    "\n",
    "Use the dataset on babies with low birthweight from the\n",
    "first two questions:"
   ]
  },
  {
   "cell_type": "code",
   "execution_count": null,
   "metadata": {},
   "outputs": [],
   "source": [
    "%%R\n",
    "uu <- url(\"http://people.stat.sfu.ca/~jgraham/Teaching/S305_18/Data/lowbwt.csv\")\n",
    "lowbwt <- read.csv(uu)\n",
    "head(lowbwt)"
   ]
  },
  {
   "cell_type": "markdown",
   "metadata": {},
   "source": [
    "In this problem, use germinal-matrix hemorrhage (`grmhem`) as the response variable and five-minute apgar score (`apgar5`)\n",
    "as an explanatory variable. Note that apgar is a score without any real units. Where necessary you may refer to apgar score in terms of “points” (e.g., a one point increase). Report R output and perform your calculations using three significant digits.\n",
    "\n",
    "a)\tFit a logistic-regression model for the log odds of germinal-matrix hemorrhage that includes main effects for five-minute apgar score (`apgar5`) and toxemia (`tox`), and statistical interaction between these two variables. You’re asked whether or not toxemia modifies the effect of the apgar score on the odds of \n",
    "germinal-matrix hemorrhage? Answer this question using a statistical test with significance level 5\\% and explain your response.\n",
    "\n",
    "**Answer:**"
   ]
  },
  {
   "cell_type": "code",
   "execution_count": null,
   "metadata": {},
   "outputs": [],
   "source": [
    "%%R\n",
    "# Add your R commands here.  "
   ]
  },
  {
   "cell_type": "markdown",
   "metadata": {},
   "source": [
    "*Insert your written comments here.*\n",
    "\n",
    "b)\tAssess whether or not toxemia confounds the effect of five-minute apgar score on the odds of germinal-matrix hemorrhage using the rule-of-thumb based on the 10%-change discussed in the notes.\n",
    "\n",
    "**Answer:**"
   ]
  },
  {
   "cell_type": "code",
   "execution_count": null,
   "metadata": {},
   "outputs": [],
   "source": [
    "%%R\n",
    "# Add your R commands here.  "
   ]
  },
  {
   "cell_type": "markdown",
   "metadata": {},
   "source": [
    "*Insert your written comments here.*\n",
    "\n",
    "c)\tIn light of parts (a) and (b), is it necessary to adjust for toxemia if we are interested in the effect of five-minute apgar score on germinal-matrix hemorrhage? Justify your answer. Based on your answer, fit an appropriate model and report the point estimate of the effect of the five-minute apgar score. (Note: Don’t bother to interpret this point estimate; instead, you will be asked to interpret the interval estimate in part (d) below.)\n",
    "\n",
    "**Answer:**"
   ]
  },
  {
   "cell_type": "code",
   "execution_count": null,
   "metadata": {},
   "outputs": [],
   "source": [
    "%%R\n",
    "# Add your R commands here.  "
   ]
  },
  {
   "cell_type": "markdown",
   "metadata": {},
   "source": [
    "*Insert your written comments here.*\n",
    "\n",
    "d)\tUse R to construct a 95% CI for the slope coefficient describing the effect of the five-minute apgar score in the logistic-regression model fitted in part (c). Report this interval on the log-odds scale, and also transform the CI to the odds scale. Interpret the interval on the odds scale. \n",
    "\n",
    "**Answer:**"
   ]
  },
  {
   "cell_type": "code",
   "execution_count": null,
   "metadata": {},
   "outputs": [],
   "source": [
    "%%R\n",
    "# Add your R commands here.  "
   ]
  },
  {
   "cell_type": "markdown",
   "metadata": {},
   "source": [
    "*Insert your written comments here.*"
   ]
  }
 ],
 "metadata": {},
 "nbformat": 4,
 "nbformat_minor": 0
}
