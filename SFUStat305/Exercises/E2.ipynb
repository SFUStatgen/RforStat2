{
 "cells": [
  {
   "cell_type": "markdown",
   "metadata": {},
   "source": [
    "---\n",
    "title: \"Stat 305 Exercise Set 2\"\n",
    "output: html_document\n",
    "---"
   ]
  },
  {
   "cell_type": "code",
   "execution_count": null,
   "metadata": {
    "attributes": {
     "classes": [],
     "id": "",
     "include": "FALSE"
    }
   },
   "outputs": [],
   "source": [
    "knitr::opts_chunk$set(echo = TRUE)"
   ]
  },
  {
   "cell_type": "markdown",
   "metadata": {},
   "source": [
    "## Question 1\n",
    "\n",
    "Chapter 15, #10 but with modification. Survey of Italian physicians on breast cancer. Physicians in different specialties were asked about\n",
    "their recommendations for radical (mastectomy) vs.\n",
    "conservative (lumpectomy) surgery. In particular, \n",
    "would they recommend radical surgery regardless\n",
    "of a patient's age (RR), conservative surgery for \n",
    "younger patients only (CY), or conservative surgery regardless of age (CR)?\n",
    "\n",
    "\n",
    "To answer this question we need a data-frame \n",
    "that contains the results of the survey.  \n",
    "Create one called `survey` with 3 \n",
    "variables `RR`, `CY` and `CR` as follows:"
   ]
  },
  {
   "cell_type": "code",
   "execution_count": null,
   "metadata": {},
   "outputs": [],
   "source": [
    "%%R\n",
    "survey <- data.frame(\n",
    "  RR=c(6,23,2,1,1), \n",
    "  CY=c(22,61,3,12,12), \n",
    "  CR=c(42,127,54,43,31))\n",
    "row.names(survey)<-c(\"Internal\", \"Surgery\", \"Radiotherapy\",\n",
    "              \"Oncology\", \"Gynecology\")\n",
    "survey"
   ]
  },
  {
   "cell_type": "markdown",
   "metadata": {},
   "source": [
    "(a) At the 0.05 level, test the null hypothesis\n",
    "that there is no association between physician\n",
    "specialty and recommended treatment. (Note: Ignore\n",
    "the warning message from R about the chi-squared approximation.)\n",
    "\n",
    "**Answer:**"
   ]
  },
  {
   "cell_type": "code",
   "execution_count": null,
   "metadata": {},
   "outputs": [],
   "source": [
    "%%R\n",
    "# Add your R commands here.  "
   ]
  },
  {
   "cell_type": "markdown",
   "metadata": {},
   "source": [
    "*Insert your written comments here.*\n",
    "\n",
    "(b) Report the expected cell\n",
    "counts in the table under the null hypothesis. Comment on whether the chi-square\n",
    "approximation is reliable for these data.\n",
    "\n",
    "**Answer:**"
   ]
  },
  {
   "cell_type": "code",
   "execution_count": null,
   "metadata": {},
   "outputs": [],
   "source": [
    "%%R\n",
    "# Add your R commands here.  "
   ]
  },
  {
   "cell_type": "markdown",
   "metadata": {},
   "source": [
    "*Insert your written comments here.*\n",
    "\n",
    "\n",
    "(c) What do you conclude?\n",
    "\n",
    "**Answer:**\n",
    "\n",
    "*Insert your written comments here.*\n",
    "\n",
    "## Question 2\n",
    "\n",
    "Chapter 15, #12 but with modification. Intra-observer\n",
    "variability in assessing cervical smears. This study\n",
    "screened 3325 pap-smear slides for the presence or\n",
    "absence of abnormal squamous cells. Each slide\n",
    "was screened by a particular observer and then\n",
    "rescreened 6 months later by the same observer.\n",
    "The results of the study are shown below:\n",
    "\n",
    "<table cellpadding=\"10\">\n",
    "<tr> \n",
    " <td> &nbsp; </td>  \n",
    " <td colspan=\"2\" align=\"center\"> &nbsp; <b>2nd screen</b> &nbsp; </td>\n",
    " <td> &nbsp; </td>\n",
    "</tr>\n",
    "<tr> \n",
    " <td> &nbsp; <b>1st screen</b> &nbsp; </td> \n",
    " <td> &nbsp; Present &nbsp; </td> \n",
    " <td> &nbsp; Absent &nbsp; </td> \n",
    " <td> &nbsp; Total &nbsp; </td>\n",
    "</tr>\n",
    "<tr>\n",
    " <td> &nbsp; Present &nbsp; </td> \n",
    " <td> &nbsp; 1763 &nbsp; </td> \n",
    " <td> &nbsp; 489 &nbsp; </td> \n",
    " <td> &nbsp; 2252 &nbsp; </td> \n",
    "</tr>\n",
    "<tr>\n",
    " <td> &nbsp; Absent &nbsp; </td> \n",
    " <td> &nbsp; 403 &nbsp; </td> \n",
    " <td> &nbsp; 670 &nbsp; </td> \n",
    " <td> &nbsp; 1073 &nbsp; </td> \n",
    "</tr>\n",
    "<tr>\n",
    " <td> &nbsp; Total &nbsp; </td> \n",
    " <td> &nbsp; 2166 &nbsp; </td> \n",
    " <td> &nbsp; 1159 &nbsp; </td> \n",
    " <td> &nbsp; 3325 &nbsp; </td> \n",
    "</tr>\n",
    "</table>\n",
    "<p>\n",
    "\n",
    "\n",
    "(a) Do these data support the null hypothesis\n",
    "that there is no association between the time of \n",
    "screening and diagnosis? \n",
    "\n",
    " **Answer:**"
   ]
  },
  {
   "cell_type": "code",
   "execution_count": null,
   "metadata": {},
   "outputs": [],
   "source": [
    "%%R\n",
    "# Add your R commands here.  "
   ]
  },
  {
   "cell_type": "markdown",
   "metadata": {},
   "source": [
    "*Insert your written comments here.*\n",
    "\n",
    "The data could also be displayed in the following\n",
    "manner:\n",
    "<table cellpadding=\"10\">\n",
    "<tr> \n",
    " <td> &nbsp; </td>  \n",
    " <td colspan=\"2\" align=\"center\"> &nbsp; <b>Screening</b> &nbsp; </td>\n",
    " <td> &nbsp; </td>\n",
    "</tr>\n",
    "<tr> \n",
    " <td> &nbsp; <b>Abnormal cells </b> &nbsp; </td> \n",
    " <td> &nbsp; First &nbsp; </td> \n",
    " <td> &nbsp; Second &nbsp; </td> \n",
    " <td> &nbsp; Total &nbsp; </td>\n",
    "</tr>\n",
    "<tr>\n",
    " <td> &nbsp; Present &nbsp; </td> \n",
    " <td> &nbsp; 2252 &nbsp; </td> \n",
    " <td> &nbsp; 2166 &nbsp; </td> \n",
    " <td> &nbsp; 4418 &nbsp; </td> \n",
    "</tr>\n",
    "<tr>\n",
    " <td> &nbsp; Absent &nbsp; </td> \n",
    " <td> &nbsp; 1073 &nbsp; </td> \n",
    " <td> &nbsp; 1159 &nbsp; </td> \n",
    " <td> &nbsp; 2232 &nbsp; </td> \n",
    "</tr>\n",
    "<tr>\n",
    " <td> &nbsp; Total &nbsp; </td> \n",
    " <td> &nbsp; 3325 &nbsp; </td> \n",
    " <td> &nbsp; 3325 &nbsp; </td> \n",
    " <td> &nbsp; 6650 &nbsp; </td> \n",
    "</tr>\n",
    "</table>\n",
    "<p>\n",
    "\n",
    "\n",
    "(b) Is there anything wrong with this presentation?\n",
    "Please describe briefly.\n",
    "\n",
    "**Answer:**\n",
    "\n",
    "*Insert your written comments here.*\n",
    "\n",
    "(c) If you didn't know there was anything wrong with the\n",
    "presentation in part b, how would you analyze the data? For instance, what type of test would you apply and what would be the null hypothesis that you'd be testing? (Note: You don't actually have to do the test; just say what you would do.)\n",
    "\n",
    "**Answer:**\n",
    "\n",
    "*Insert your written comments here.*\n",
    "\n",
    "\n",
    "## Question 3\n",
    "\n",
    "Chapter 15, #18. Alcohol and miscarriages. A study investigating the association between spontaneous abortion (miscarriage) and alcohol consumption obtained the data below. Note that the second column labeled \"pregnancies\" counts the total number of women who got pregnant whereas the third column labeled \"miscarriages\" counts the number (out of the total in the second column) who subsequently lost their pregnancy due to spontaneous abortion. \n",
    "\n",
    "<table cellpadding=\"10\">\n",
    "<tr> \n",
    " <td> <b>drinks/week</b> &nbsp; </td>\n",
    " <td> <b>pregnancies</b> &nbsp; </td>\n",
    " <td> <b>miscarriages</b> &nbsp; </td>\n",
    "</tr>\n",
    "<tr> \n",
    " <td> &nbsp; 0 &nbsp; </td>\n",
    " <td> &nbsp; 33164 &nbsp; </td>\n",
    " <td> &nbsp; 6793 &nbsp; </td>\n",
    "</tr>\n",
    "<tr> \n",
    " <td> &nbsp; 1-2 &nbsp; </td>\n",
    " <td> &nbsp; 9099 &nbsp; </td>\n",
    " <td> &nbsp; 2068 &nbsp; </td>\n",
    "</tr>\n",
    "<tr> \n",
    " <td> &nbsp; 3-6 &nbsp; </td>\n",
    " <td> &nbsp; 3069 &nbsp; </td>\n",
    " <td>  &nbsp; 776 &nbsp; </td>\n",
    "</tr>\n",
    "<tr> \n",
    " <td> &nbsp; 7-20 &nbsp; </td>\n",
    " <td> &nbsp; 1527 &nbsp; </td>\n",
    " <td>  &nbsp; 456 &nbsp; </td>\n",
    "</tr>\n",
    "<tr> \n",
    " <td> &nbsp; 21+ &nbsp; </td>\n",
    " <td> &nbsp; 287 &nbsp; </td>\n",
    " <td> &nbsp; 98 &nbsp; </td>\n",
    "</tr>\n",
    "</table>\n",
    "<p>\n",
    "\n",
    "Below is a revised code chunk using the style of\n",
    "the revised chapter 15, part 4 R demo.\n",
    "For parts a-d below, you may **modify** this R code chunk as necessary (and then run it) if you find it helpful."
   ]
  },
  {
   "cell_type": "code",
   "execution_count": null,
   "metadata": {
    "attributes": {
     "classes": [],
     "id": "",
     "message": "FALSE,",
     "warning": "FALSE"
    }
   },
   "outputs": [],
   "source": [
    "group=c(\"1-2\", \"3-6\", \"7-20\", \"21+\")\n",
    "preg <- c(9099,3069,1527,287)\n",
    "mis <- c(2068,776,456,98)\n",
    "mydf <- data.frame(group=group,a=mis,b=preg-mis,c=6793,d=33164-6793)\n",
    "mydf # comment: the values of c and d are repeated as necessary\n",
    "lev <- 0.80 #confidence level or coverage probability\n",
    "critval <- qnorm( (1-lev)/2, lower.tail=FALSE)\n",
    "library(dplyr)\n",
    "mydf <- mutate(mydf, OR=a*d/(b*c),\n",
    "               logOR = log(OR),\n",
    "               se.logOR = sqrt(1/a + 1/b + 1/c + 1/d),\n",
    "               ci.lower = exp(logOR-critval*se.logOR),\n",
    "               ci.upper = exp(logOR+critval*se.logOR))\n",
    "print(mydf,digits=3)"
   ]
  },
  {
   "cell_type": "markdown",
   "metadata": {},
   "source": [
    "(a) For each level of alcohol consumption, estimate\n",
    "the probability that a woman who becomes pregnant\n",
    "will have a miscarriage.\n",
    "\n",
    "**Answer:**\n",
    "\n",
    "*Insert your written comments here.*\n",
    "\n",
    "(b) For each category of alcohol use, estimate the\n",
    "relative odds of miscarriage \n",
    "for women who consume some amount of alcohol versus\n",
    "those who do not consume any. \n",
    "\n",
    "**Answer:**\n",
    "\n",
    "*Insert your written comments here.*\n",
    "\n",
    "(c) In each case, calculate a 95\\% confidence \n",
    "interval for the odds ratio\n",
    "\n",
    "**Answer:**\n",
    "\n",
    "*Insert your written comments here.*\n",
    "\n",
    "(d) What do you conclude? Do the data suggest a dose-response \n",
    "relationship between alcohol use and the odds of miscarriage?\n",
    "\n",
    "**Answer:**\n",
    "\n",
    "*Insert your written comments here.*\n",
    "\n",
    "## Question 4\n",
    "\n",
    "Chapter 15, #21, with modification. Beer-drinking questionnaires. Two different questionnaires addressing drinking habits\n",
    "were administered to the same set of men and women aged 50-65 years from a certain community. The first questionnaire format concerned\n",
    "general diet and lifestyle while the second format specifically targeted alcohol use. For each questionnaire, the responses were processed to classify a respondent as either a non-drinker or drinker of beer.  Categories for the general questionnaire are saved under the variable `genques` and those for the questionnaire targeting alcohol use are saved under the variable `alcques`.\n",
    "The data are available as a plain text file; see the R code below for accessing it."
   ]
  },
  {
   "cell_type": "code",
   "execution_count": null,
   "metadata": {},
   "outputs": [],
   "source": [
    "%%R\n",
    "uu<-url(\"http://people.stat.sfu.ca/~jgraham/Teaching/S305_18/Data/alcohol.txt\")\n",
    "alc <- read.table(uu,header=TRUE)\n",
    "head(alc) "
   ]
  },
  {
   "cell_type": "markdown",
   "metadata": {},
   "source": [
    "a) Are the drinking statuses on the two different types of questionnaires associated? Use a 5\\% level in your test. What do you conclude?\n",
    "\n",
    "\n",
    "**Answer:**"
   ]
  },
  {
   "cell_type": "code",
   "execution_count": null,
   "metadata": {},
   "outputs": [],
   "source": [
    "%%R\n",
    "# Put your R commands here."
   ]
  },
  {
   "cell_type": "markdown",
   "metadata": {},
   "source": [
    "*Insert your written comments here.*\n",
    "\n",
    "b) Is the type of questionnaire associated with drinking status? Use a 5\\% level and continuity correction in your test. What do you conclude?\n",
    "\n",
    "**Answer:**"
   ]
  },
  {
   "cell_type": "code",
   "execution_count": null,
   "metadata": {},
   "outputs": [],
   "source": [
    "%%R\n",
    "# Put your R commands here."
   ]
  },
  {
   "cell_type": "markdown",
   "metadata": {},
   "source": [
    "*Insert your written comments here.*"
   ]
  }
 ],
 "metadata": {},
 "nbformat": 4,
 "nbformat_minor": 0
}
