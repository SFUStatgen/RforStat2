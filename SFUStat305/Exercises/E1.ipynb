{
 "cells": [
  {
   "cell_type": "markdown",
   "metadata": {},
   "source": [
    "---\n",
    "title: \"Stat 305 Exercise Set 1\"\n",
    "output: html_document\n",
    "---"
   ]
  },
  {
   "cell_type": "code",
   "execution_count": null,
   "metadata": {
    "attributes": {
     "classes": [],
     "id": "",
     "include": "FALSE"
    }
   },
   "outputs": [],
   "source": [
    "knitr::opts_chunk$set(echo = TRUE,warning=FALSE, message=FALSE)"
   ]
  },
  {
   "cell_type": "markdown",
   "metadata": {},
   "source": [
    "## 1. Summaries of the hysterectomy data\n",
    "\n",
    "To answer this question we need a data frame \n",
    "that contains the numbers of hysterectomies for the\n",
    "15 Swiss doctors in the class notes.\n",
    "We create a data frame called `hyst` with one \n",
    "variable `numHyster`, as follows:"
   ]
  },
  {
   "cell_type": "code",
   "execution_count": null,
   "metadata": {},
   "outputs": [],
   "source": [
    "%%R\n",
    "hyst <- data.frame(numHyster = c(20,25,25,27,28,31,33,34,\n",
    "                                 36,37,44,50,59,85,86))"
   ]
  },
  {
   "cell_type": "markdown",
   "metadata": {},
   "source": [
    "Notice that I'm cutting-and-pasting from the `ch2-3Demo.Rmd`\n",
    "demo. You\n",
    "will find lots of useful R code in the demos to draw from, with little or no modification.\n",
    "\n",
    "a. Draw a histogram of the data. Do you see any outliers?\n",
    "\n",
    "**Answer:**"
   ]
  },
  {
   "cell_type": "code",
   "execution_count": null,
   "metadata": {},
   "outputs": [],
   "source": [
    "%%R\n",
    "library(ggplot2)\n",
    "# Add your R commands to draw a histogram here -- the R demos in \n",
    "# the lecture notes should be helpful. Note that the Workshop is\n",
    "# there to help you get started with R; please make use\n",
    "# of this excellent resource. "
   ]
  },
  {
   "cell_type": "markdown",
   "metadata": {},
   "source": [
    "*Insert your written comments here about the outliers that you see\n",
    "in the histogram.*\n",
    "\n",
    "b. Compute the sample mean, standard deviation, median, 25th\n",
    "percentile and 75th percentile from these data. Comment on the difference\n",
    "between the mean and the median, and the difference \n",
    "between the SD and the IQR.\n",
    "\n",
    "**Answer:**"
   ]
  },
  {
   "cell_type": "code",
   "execution_count": null,
   "metadata": {},
   "outputs": [],
   "source": [
    "%%R\n",
    "library(dplyr)\n",
    "# Add your R commands to do this question here. You can use\n",
    "# the summarize() function as in the demo in ch2-3Demo.Rmd."
   ]
  },
  {
   "cell_type": "markdown",
   "metadata": {},
   "source": [
    "*Add your written comments that interpret the output of the R \n",
    "commands here*\n",
    "\n",
    "## 2. Sampling Distributions\n",
    "\n",
    "The questions below will use the simulation function `samDist()`\n",
    "defined in the following code chunk. The function returns a\n",
    "sample from the sampling distribution of a statistic `stat`.\n",
    "In particular, the function\n",
    "simulates `N` datasets of size `n` from a normal \n",
    "distribution with mean 0 and SD 1\n",
    "and returns the summary statistic `stat` for each dataset.\n",
    "The default values for the simulation parameters are\n",
    "`N=1000` and `n=30`. There is no default statistic to compute.\n",
    "You don't need to understand the R code used in this function. \n",
    "You **do** need to run \n",
    "the code chunk before answering the questions."
   ]
  },
  {
   "cell_type": "code",
   "execution_count": null,
   "metadata": {},
   "outputs": [],
   "source": [
    "%%R\n",
    "samDist <- function(stat,N=1000,n=30) {\n",
    "  data.frame(stat=replicate(N,stat(rnorm(n))))\n",
    "}\n",
    "# Example uses:\n",
    "# mm <- samDist(stat=mean)\n",
    "# ggplot(mm,aes(x=stat)) + geom_histogram(binwidth=.1)\n",
    "# summarize(mm,mean(stat)) # compare to pop.mean\n",
    "# summarize(mm,sd(stat)) # compare to pop.sd/sqrt(n)"
   ]
  },
  {
   "cell_type": "markdown",
   "metadata": {},
   "source": [
    "a. Use `samDist()` to draw a sample from \n",
    "the sampling distribution of the sample mean (`stat=mean`)\n",
    "when all simulation parameters are left at their defaults. \n",
    "Compute the mean and SD of your sampling distribution\n",
    "and compare these to the population mean and population SD \n",
    "used to simulate datasets."
   ]
  },
  {
   "cell_type": "code",
   "execution_count": null,
   "metadata": {},
   "outputs": [],
   "source": [
    "%%R\n",
    "# Insert your R commands here."
   ]
  },
  {
   "cell_type": "markdown",
   "metadata": {},
   "source": [
    "b. Repeat part (a) but with `stat=median` to \n",
    "draw a sample from the sampling distribution of the \n",
    "sample median.\n",
    "Compute the mean of your sampling distribution.\n",
    "Compare this to the SD of the sampling\n",
    "distribution of the sample mean (part a)."
   ]
  },
  {
   "cell_type": "code",
   "execution_count": null,
   "metadata": {},
   "outputs": [],
   "source": [
    "%%R\n",
    "# Insert your R commands here."
   ]
  },
  {
   "cell_type": "markdown",
   "metadata": {},
   "source": [
    "c. Repeat part (a) but with `stat=sd` to \n",
    "draw a sample from the sampling distribution of the \n",
    "sample SD. Compute the mean of your sampling \n",
    "distribution and compare it to the population SD \n",
    "used to simulate datasets."
   ]
  },
  {
   "cell_type": "code",
   "execution_count": null,
   "metadata": {},
   "outputs": [],
   "source": [
    "%%R\n",
    "# Insert your R commands here."
   ]
  },
  {
   "cell_type": "markdown",
   "metadata": {},
   "source": [
    "## 3. Chapter 9, problem 12. \n",
    "These questions are about serum zinc levels for \n",
    "a sample of 462 males between the ages of 15 and 17 years. The units of measurement for serum zinc level are micrograms per deciliter.\n",
    "\n",
    "Before you do parts (a) - (d), draw a histogram of the data. \n",
    "\n",
    "**Answer to histogram question:**"
   ]
  },
  {
   "cell_type": "code",
   "execution_count": null,
   "metadata": {},
   "outputs": [],
   "source": [
    "%%R\n",
    "uu<-url(\"http://people.stat.sfu.ca/~jgraham/Teaching/S305_18/Data/serzinc.txt\")\n",
    "serzinc <- read.table(uu,header=TRUE)\n",
    "head(serzinc) \n",
    "# Put your histogram commands here; they will show the histogram output."
   ]
  },
  {
   "cell_type": "markdown",
   "metadata": {},
   "source": [
    "a. Find a 2-sided 95\\% CI for $\\mu$, the true mean \n",
    "serum zinc level for this population of males aged 15-17 years.\n",
    "\n",
    "Note: If you look at the `ch8-10.Rmd` demo, you will\n",
    "see that confidence intervals \n",
    "can be constructed from summary statistics\n",
    "and quantiles (the \"do-it-yourself\" method) or read\n",
    "from the output of the\n",
    "`t.test()` function. You won't \n",
    "get extra marks for do-it-yourself, so you might\n",
    "as well use `t.test()`.\n",
    "\n",
    "**Answer:**"
   ]
  },
  {
   "cell_type": "code",
   "execution_count": null,
   "metadata": {},
   "outputs": [],
   "source": [
    "%%R\n",
    "# Put your R commands here for t.test() to get the 95% CI"
   ]
  },
  {
   "cell_type": "markdown",
   "metadata": {},
   "source": [
    "b. Interpret this confidence interval \n",
    "\n",
    "**Answer:**\n",
    "\n",
    "*Insert your written comments here about the interpretation of the CI. Use the units of measurement for serum zinc level in your interpretation and phrase it as though you were explaining it to a public health professional at work.* \n",
    "\n",
    "c. Calculate a 90\\% CI for $\\mu$.\n",
    "\n",
    "**Answer:**"
   ]
  },
  {
   "cell_type": "code",
   "execution_count": null,
   "metadata": {},
   "outputs": [],
   "source": [
    "%%R\n",
    "# Put your R commands here for t.test() to get the 90% CI"
   ]
  },
  {
   "cell_type": "markdown",
   "metadata": {},
   "source": [
    "d. How does the 90\\% CI compare to the 95\\% CI?\n",
    "\n",
    "**Answer:**\n",
    "\n",
    "*Insert your written comments here about how the two CI's differ.*\n",
    "\n",
    "\n",
    "## 4. Chapter 10, problem 16, but with modification\n",
    "\n",
    "Specifically, we will use the data on all 143 babies with\n",
    "congenital heart disease rather than just the 70 babies \n",
    "who undergo reparative heart surgery during the first 3 \n",
    "months of life (and so have \"trtment\" variable equal to one).\n",
    "\n",
    "The Bayley Scales of Infant \n",
    "Development yield scores on 2 indices -- the Psychomotor \n",
    "Development Index (PDI) and the Mental Development Index (MDI)\n",
    "-- which can be used to assess a child's level of functioning\n",
    "in each of these areas at approximately one year of age.\n",
    "The Bayley Scales were\n",
    "administered to a sample of one-year-old infants born with\n",
    "congenital heart disease. \n",
    "\n",
    "Before you do parts (a) - (d), draw a histogram of the PDI and\n",
    "MDI scores. The histogram should be handed in with your assignment. \n",
    "\n",
    "\n",
    "**Answer to histogram question**"
   ]
  },
  {
   "cell_type": "code",
   "execution_count": null,
   "metadata": {},
   "outputs": [],
   "source": [
    "%%R\n",
    "uu<-url(\"http://people.stat.sfu.ca/~jgraham/Teaching/S305_18/Data/heart.txt\")\n",
    "heart <- read.table(uu,header=TRUE)\n",
    "head(heart)\n",
    "# Put your histogram commands here"
   ]
  },
  {
   "cell_type": "markdown",
   "metadata": {},
   "source": [
    "a. At the 0.05 level of significance, test the null hypothesis\n",
    "that the mean PDI score for children born with congenital\n",
    "heart disease is equal to 100, the mean score for healthy\n",
    "children. Use a 2-sided test. What is the pvalue? What\n",
    "do you conclude?\n",
    "\n",
    "**Answer** \n",
    "\n",
    "Use the `t-test()` function to perform the test,\n",
    "and then interpret the results."
   ]
  },
  {
   "cell_type": "code",
   "execution_count": null,
   "metadata": {},
   "outputs": [],
   "source": [
    "%%R\n",
    "# t.test commands go here"
   ]
  },
  {
   "cell_type": "markdown",
   "metadata": {},
   "source": [
    "*Add your comments on interpretation here*\n",
    "\n",
    "\n",
    "b. Conduct the analogous test of hypothesis for the mean MDI\n",
    "score. What do you conclude?\n",
    "\n",
    "**Answer**"
   ]
  },
  {
   "cell_type": "code",
   "execution_count": null,
   "metadata": {},
   "outputs": [],
   "source": [
    "%%R\n",
    "# t.test commands go here"
   ]
  },
  {
   "cell_type": "markdown",
   "metadata": {},
   "source": [
    "*Add your comments on interpretation here*\n",
    "\n",
    "\n",
    "c. Construct 95\\% CIs for the true mean PDI score\n",
    "and the true mean MDI score for this population of\n",
    "children with congenital heart disease. Does either of\n",
    "these intervals contain the value 100? Would you have\n",
    "expected that they would?\n",
    "\n",
    "**Answer**\n",
    "\n",
    "*Add your interpretation here of the CI results in the t.test( ) output above.*\n",
    "\n",
    "## 5. Chapter 11, problem 14 with clarified wording. \n",
    "\n",
    "The dataset `lowbwt` contains information\n",
    "for a sample of 100 low birth weight infants born in two \n",
    "teaching hospitals in Boston, MA. Measurements of systolic \n",
    "blood pressure are saved under the variable name `sbp` and\n",
    "indicators of gender -- with 1 respresenting a male and 0 a\n",
    "femaile -- under the name `sex`."
   ]
  },
  {
   "cell_type": "code",
   "execution_count": null,
   "metadata": {},
   "outputs": [],
   "source": [
    "%%R\n",
    "uu<-url(\"http://people.stat.sfu.ca/~jgraham/Teaching/S305_18/Data/lowbwt.txt\")\n",
    "lowbwt <- read.table(uu,header=TRUE)\n",
    "head(lowbwt)"
   ]
  },
  {
   "cell_type": "markdown",
   "metadata": {},
   "source": [
    "a. Construct a histogram of systolic blood\n",
    "pressure (SBP) with observations **grouped by sex**.\n",
    "Based on the graph, does blood pressure look as though it is \n",
    "approximately normally distributed in each gender?\n",
    "\n",
    "To group by sex, we need to create a categorical variable out\n",
    "of the numeric `sex` variable in the dataset."
   ]
  },
  {
   "cell_type": "code",
   "execution_count": null,
   "metadata": {
    "attributes": {
     "classes": [],
     "fig.height": "3,fig.width=4",
     "id": ""
    }
   },
   "outputs": [],
   "source": [
    "lowbwt <- mutate(lowbwt,sexCateg = factor(sex))"
   ]
  },
  {
   "cell_type": "markdown",
   "metadata": {},
   "source": [
    "Refer to the example histograms in the `ch11Demo.Rmd` demo\n",
    "to see how to \"fill\" the bars of your histogram \n",
    "with different colours for different values of `sexCateg`.\n",
    "\n",
    "**Answer**"
   ]
  },
  {
   "cell_type": "code",
   "execution_count": null,
   "metadata": {},
   "outputs": [],
   "source": [
    "%%R\n",
    "# histogram commands go here"
   ]
  },
  {
   "cell_type": "markdown",
   "metadata": {},
   "source": [
    "*Add your comments on the approximate normality here*\n",
    "\n",
    "b. Test the null hypothesis that among low-birth-weight infants,\n",
    "the mean systolic blood pressure for boys is equal to the mean \n",
    "for girls. Use a 2-sided test at 0.05 level of significance.\n",
    "What do you conclude?\n",
    "\n",
    "See the `ch11Demo.Rmd` demo for an example two-sample \n",
    "t-test with the `t.test()` function.\n",
    "\n",
    "**Answer**"
   ]
  },
  {
   "cell_type": "code",
   "execution_count": null,
   "metadata": {},
   "outputs": [],
   "source": [
    "%%R\n",
    "# t.test commands go here"
   ]
  },
  {
   "cell_type": "markdown",
   "metadata": {},
   "source": [
    "*Add your comments here on the interpretation of the results \n",
    "from the 2-sample t-test.*\n",
    "\n",
    "## 6. Example Quiz Questions\n",
    "\n",
    "* a. A survey is given to 100 patients randomly selected from \n",
    "BC residents aged 65 years or more on the waiting list for heart surgery. What is the population? What is the sample?\n",
    "\n",
    "**Answer:**\n",
    "*Insert your answer here. Your response should be short; e.g. a couple of sentences at most.*\n",
    "\n",
    "* b. Fifty batches of vaccine for diphtheria, tetanus, and pertussis were randomly selected from the set of all batches produced by a large national pharmaceutical company in 2017. What are the fifty batches called; how about the set of all batches? \n",
    "\n",
    "**Answer:**  *Insert your answer here. Your response should be short (e.g. two words).*\n",
    "\n",
    "* c. Choose one: A mean is a statistic if it is computed from the (1) parameter, (2) population, (3) sample.\n",
    "\n",
    "**Answer:** *Insert your answer here. Your response can be one word.*\n",
    "\n",
    "* d. Choose one: A mean could be (1) a parameter only, (2) a statistic only, (3) a parameter or a statistic.\n",
    "\n",
    "**Answer:** *Insert your answer here. Your response can be one word.*\n",
    "\n",
    "* e. Choose one: An SD is a parameter if it is computed from a (1) statistic, (2) population, (3) sample.\n",
    "\n",
    "**Answer:** *Insert your answer here. Your response can be one word.*\n",
    "\n",
    "* f. Choose all that apply: Hypotheses are written in terms of (1) statistics, (2) parameters \n",
    "\n",
    "**Answer:** *Insert your answer here. Your response can be short, just the words that apply.*\n",
    " \n",
    "* g. Choose all that apply:   \n",
    "    + (1) We use statistics such as the sample mean to assess the evidence in a sample for statistical hypotheses.\n",
    "    + (2) Statistical hypotheses ask questions about sample quantities known as statistics.\n",
    "    + (3) Statistical hypotheses ask questions about population quantities known as parameters.\n",
    "\n",
    "**Answer:** *Insert your answer here. Your response can be short, just the numbers of the options that apply.*  \n",
    "    \n",
    "* h. Choose all that apply: The difference between $s$ and $\\sigma$ in the class notes is that\n",
    "    + (1) $s$ is for a sample and $\\sigma$ is for a population, \n",
    "    + (2) $s$ is for a population and $\\sigma$ is for a sample.\n",
    "    + (3) $s$ is a parameter and $\\sigma$ is not\n",
    "    + (4) $s$ is a statistic and $\\sigma$ is a parameter\n",
    "\n",
    "**Answer:** *Insert your answer here. Your response can be short, just the numbers of the options that apply.*  \n",
    "    \n",
    "* i. Choose all that apply: \n",
    "    + (1) s and $\\sigma$ are statistics.\n",
    "    + (2) $\\mu$ and $\\sigma$ are statistics\n",
    "    + (3) $\\mu$ and $s$ are parameters\n",
    "    + (4) $\\bar{x}$ and $s$ are statistics\n",
    "    + (5) $\\mu$ and $\\sigma$ are parameters\n",
    "    + (6) $\\bar{x}$ and $s$ are parameters\n",
    "    \n",
    "**Answer:** *Insert your answer here. Your response can be short, just the numbers of the options that apply.*"
   ]
  }
 ],
 "metadata": {},
 "nbformat": 4,
 "nbformat_minor": 0
}
